{
 "cells": [
  {
   "cell_type": "code",
   "execution_count": 1,
   "id": "f518b238",
   "metadata": {},
   "outputs": [],
   "source": [
    "%load_ext autoreload\n",
    "%autoreload 2\n",
    "\n",
    "import numpy as np\n",
    "import matplotlib.pyplot as plt\n",
    "plt.rcParams['figure.figsize'] = [9, 6]\n",
    "\n",
    "import sys\n",
    "\n",
    "sys.path.append(\"incl/\")\n",
    "\n",
    "import ELPH_utils\n",
    "import ELPH_Dim_Reducer\n",
    "\n",
    "from RedDimApprox import RedDimApprox"
   ]
  },
  {
   "cell_type": "code",
   "execution_count": 2,
   "id": "543f214f",
   "metadata": {},
   "outputs": [
    {
     "name": "stdout",
     "output_type": "stream",
     "text": [
      "1000 loaded with n_kmax = 80\n"
     ]
    }
   ],
   "source": [
    "runs = ELPH_utils.load_runs(filename='../runs_n_kmax=80.npz')\n",
    "\n",
    "# runs = runs[:100:1]\n",
    "# for k in range(len(runs)):\n",
    "#     runs[k] = runs[k][:,::2]\n",
    "\n",
    "n_runs = len(runs)\n",
    "n_kmax = runs[0].shape[0]\n",
    "\n",
    "print(n_runs, 'loaded with n_kmax =', n_kmax)"
   ]
  },
  {
   "cell_type": "code",
   "execution_count": 3,
   "id": "95d12b36",
   "metadata": {},
   "outputs": [
    {
     "name": "stdout",
     "output_type": "stream",
     "text": [
      "0.02371554691261793\n"
     ]
    }
   ],
   "source": [
    "# dim_reducer = ELPH_Dim_Reducer.SVD()\n",
    "dim_reducer = ELPH_Dim_Reducer.FFT(sorted=True)\n",
    "# dim_reducer = ELPH_Dim_Reducer.Hermite(sample_max = 1.856, sorted=True, optimize=False)\n",
    "\n",
    "model = RedDimApprox(runs, dim_reducer)\n",
    "model.train()\n",
    "\n",
    "print(model.get_error(runs[9], rdim=20, norm='std'))"
   ]
  },
  {
   "cell_type": "code",
   "execution_count": 30,
   "id": "cbfe6109",
   "metadata": {},
   "outputs": [
    {
     "name": "stdout",
     "output_type": "stream",
     "text": [
      "0.009506398373912085\n",
      "[0.009872472910188355, 0.009496457213281068, 0.00958994697112781, 0.009139229196039728, 0.009433885578923456]\n"
     ]
    }
   ],
   "source": [
    "# dim_reducer = ELPH_Dim_Reducer.SVD()\n",
    "# dim_reducer = ELPH_Dim_Reducer.FFT(sorted=True)\n",
    "dim_reducer = ELPH_Dim_Reducer.Hermite(sample_max = 1.856, sorted=True, optimize=False)\n",
    "\n",
    "model = RedDimApprox(dim_reducer=dim_reducer)\n",
    "\n",
    "train_kwargs = {}\n",
    "score_kwargs = {'norm':'std', 'rdim':15}\n",
    "\n",
    "m,s = ELPH_utils.get_KFold_CV_scores(model, runs, folds=5, seed=817, train_kwargs=train_kwargs, score_kwargs=score_kwargs)\n",
    "\n",
    "print(m)\n",
    "print(s)"
   ]
  },
  {
   "cell_type": "code",
   "execution_count": 42,
   "id": "b87559e1",
   "metadata": {},
   "outputs": [
    {
     "name": "stdout",
     "output_type": "stream",
     "text": [
      "1000 loaded with n_kmax = 80\n",
      "rdim: 1 mean score 0.19704143782423927\n",
      "rdim: 2 mean score 0.11865675283974733\n",
      "rdim: 3 mean score 0.1007107600635441\n",
      "rdim: 4 mean score 0.07672830576125426\n",
      "rdim: 5 mean score 0.066837417024224\n",
      "rdim: 6 mean score 0.05991560982438036\n",
      "rdim: 7 mean score 0.05391890780960901\n",
      "rdim: 8 mean score 0.050391492246780745\n",
      "rdim: 9 mean score 0.047834838580852225\n",
      "rdim: 10 mean score 0.045278251834057065\n",
      "rdim: 11 mean score 0.0436262168345497\n",
      "rdim: 12 mean score 0.042123809726526254\n",
      "rdim: 13 mean score 0.040862470390527275\n",
      "rdim: 14 mean score 0.039746440877988995\n",
      "rdim: 15 mean score 0.03891315586112569\n",
      "rdim: 16 mean score 0.03813965090619542\n",
      "rdim: 17 mean score 0.03691704828722536\n",
      "rdim: 18 mean score 0.03621642425464013\n",
      "rdim: 19 mean score 0.034830367721172754\n",
      "rdim: 20 mean score 0.03412886253928277\n",
      "rdim: 21 mean score 0.03355621119548543\n",
      "rdim: 22 mean score 0.033040517083432384\n",
      "rdim: 23 mean score 0.03258148244849919\n",
      "rdim: 24 mean score 0.03209397141439399\n",
      "rdim: 25 mean score 0.031547579086192365\n",
      "rdim: 26 mean score 0.03101781486524722\n",
      "rdim: 27 mean score 0.030625850428575664\n",
      "rdim: 28 mean score 0.030195767205201184\n",
      "rdim: 29 mean score 0.02971598245831273\n",
      "rdim: 30 mean score 0.029342642023856585\n",
      "rdim: 31 mean score 0.02895727257018158\n",
      "rdim: 32 mean score 0.028574335260771466\n",
      "rdim: 33 mean score 0.02818519646191494\n",
      "rdim: 34 mean score 0.027989824284962994\n",
      "rdim: 35 mean score 0.02759693932979701\n",
      "rdim: 36 mean score 0.027197393488280257\n",
      "rdim: 37 mean score 0.02679311492851466\n",
      "rdim: 38 mean score 0.026383812633176233\n",
      "rdim: 39 mean score 0.025968250753579482\n",
      "rdim: 40 mean score 0.02554844303703586\n",
      "rdim: 41 mean score 0.025123040866008937\n",
      "rdim: 42 mean score 0.02469169966510956\n",
      "rdim: 43 mean score 0.02425277551548672\n",
      "rdim: 44 mean score 0.02380692575089209\n",
      "rdim: 45 mean score 0.023351373348048852\n",
      "rdim: 46 mean score 0.02289078856122069\n",
      "rdim: 47 mean score 0.02242059625481469\n",
      "rdim: 48 mean score 0.021943102569459798\n",
      "rdim: 49 mean score 0.02145431316706619\n",
      "rdim: 50 mean score 0.02094765383695991\n",
      "rdim: 51 mean score 0.02043375721788973\n",
      "rdim: 52 mean score 0.019909067534290385\n",
      "rdim: 53 mean score 0.019332671048375615\n",
      "rdim: 54 mean score 0.018771038084544077\n",
      "rdim: 55 mean score 0.018196162914563784\n",
      "rdim: 56 mean score 0.01759794078087223\n",
      "rdim: 57 mean score 0.016974264634636818\n",
      "rdim: 58 mean score 0.016318687319965934\n",
      "rdim: 59 mean score 0.01570525400378437\n",
      "rdim: 60 mean score 0.014971647570218663\n",
      "rdim: 61 mean score 0.014405603485301904\n",
      "rdim: 62 mean score 0.013931304283003395\n",
      "rdim: 63 mean score 0.012656849529225089\n",
      "rdim: 64 mean score 0.008404458262050513\n",
      "rdim: 65 mean score 0.007795867685475447\n",
      "rdim: 66 mean score 0.007262127708197378\n",
      "rdim: 67 mean score 0.0067841067823587705\n",
      "rdim: 68 mean score 0.006309507717505503\n",
      "rdim: 69 mean score 0.004256823473837792\n",
      "rdim: 70 mean score 0.003709009130455928\n",
      "rdim: 71 mean score 0.003193391799644895\n",
      "rdim: 72 mean score 0.0026773540306942933\n",
      "rdim: 73 mean score 0.002201510053097464\n",
      "rdim: 74 mean score 0.001866872994625638\n",
      "rdim: 75 mean score 0.0014025414682391829\n",
      "rdim: 76 mean score 0.0010189048896280678\n",
      "rdim: 77 mean score 0.0007425495452521931\n",
      "rdim: 78 mean score 0.0004609106369955305\n",
      "rdim: 79 mean score 0.00020311513770641284\n"
     ]
    }
   ],
   "source": [
    "norm = 'std'\n",
    "\n",
    "n_kmax_ar = [80]\n",
    "\n",
    "# dim_reducer = ELPH_Dim_Reducer.SVD()\n",
    "dim_reducer = ELPH_Dim_Reducer.FFT(sorted=True)\n",
    "# dim_reducer = ELPH_Dim_Reducer.Hermite(sample_max = 1.856, sorted=True, optimize=False)\n",
    "\n",
    "model = RedDimApprox(dim_reducer=dim_reducer)\n",
    "\n",
    "for k, n_kmax in enumerate(n_kmax_ar):\n",
    "    runs = ELPH_utils.load_runs(filename='../runs_n_kmax='+str(n_kmax)+'.npz')\n",
    "    n_runs = len(runs)\n",
    "    assert n_kmax == runs[0].shape[0]\n",
    "    \n",
    "    print(n_runs, 'loaded with n_kmax =', n_kmax)\n",
    "    \n",
    "    for rdim in range(1,n_kmax+1):\n",
    "        score_kwargs = {'norm':norm, 'rdim':rdim}\n",
    "        m,s = ELPH_utils.get_KFold_CV_scores(model, runs, folds=5, seed=817, train_kwargs={}, score_kwargs=score_kwargs)\n",
    "        print('rdim:', rdim, 'mean score', m)\n",
    "    "
   ]
  }
 ],
 "metadata": {
  "kernelspec": {
   "display_name": "Python 3 (ipykernel)",
   "language": "python",
   "name": "python3"
  },
  "language_info": {
   "codemirror_mode": {
    "name": "ipython",
    "version": 3
   },
   "file_extension": ".py",
   "mimetype": "text/x-python",
   "name": "python",
   "nbconvert_exporter": "python",
   "pygments_lexer": "ipython3",
   "version": "3.9.9"
  }
 },
 "nbformat": 4,
 "nbformat_minor": 5
}
