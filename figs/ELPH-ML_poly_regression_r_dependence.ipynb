{
 "cells": [
  {
   "cell_type": "code",
   "execution_count": 1,
   "id": "b1748a4d",
   "metadata": {},
   "outputs": [],
   "source": [
    "%load_ext autoreload\n",
    "%autoreload 2\n",
    "\n",
    "import numpy as np\n",
    "import matplotlib.pyplot as plt\n",
    "plt.rcParams['figure.figsize'] = [9, 6]\n",
    "\n",
    "import sys\n",
    "\n",
    "sys.path.append(\"../incl/\")\n",
    "\n",
    "import ELPH_utils\n",
    "import ELPH_Scaler\n",
    "import ELPH_Optimizer\n",
    "import ELPH_Dim_Reducer\n",
    "import ELPH_VAR_Transformer\n",
    "\n",
    "from ELPH_RDNLVAR import RDNLVAR"
   ]
  },
  {
   "cell_type": "code",
   "execution_count": 8,
   "id": "d6dfa6da",
   "metadata": {},
   "outputs": [
    {
     "name": "stdout",
     "output_type": "stream",
     "text": [
      "1000 loaded with n_kmax = 200\n"
     ]
    }
   ],
   "source": [
    "runs = ELPH_utils.load_runs(filename='/home/agluedge/Preprints/ELPH/runs/runs_n_kmax=200.npz')\n",
    "\n",
    "# runs = runs[::10]\n",
    "# for k in range(len(runs)):\n",
    "#     runs[k] = runs[k][:,::2]\n",
    "\n",
    "n_runs = len(runs)\n",
    "n_kmax = runs[0].shape[0]\n",
    "\n",
    "print(n_runs, 'loaded with n_kmax =', n_kmax)"
   ]
  },
  {
   "cell_type": "code",
   "execution_count": 10,
   "id": "31eb3c92",
   "metadata": {},
   "outputs": [
    {
     "name": "stdout",
     "output_type": "stream",
     "text": [
      "0.006301407495053644\n",
      "0.00393118079468427\n",
      "\n",
      "\n",
      "0.03138361624470426\n",
      "0.022604387936276796\n"
     ]
    }
   ],
   "source": [
    "model = RDNLVAR()\n",
    "\n",
    "optimizer = ELPH_Optimizer.ridge(alpha=10.**-3.5)\n",
    "scaler = ELPH_Scaler.normalize_scaler(0.1)\n",
    "dim_reducer = ELPH_Dim_Reducer.SVD()\n",
    "VAR_transformer = ELPH_VAR_Transformer.polynomial_features(order=2)\n",
    "\n",
    "train_kwargs = {'rdim':20, 'prdim':20, 'n_VAR_steps':2, 'intercept':True, 'full_hist':False, 'optimizer':optimizer, 'scaler':scaler, 'dim_reducer':dim_reducer, 'VAR_transformer':VAR_transformer }\n",
    "\n",
    "mean_scores_std, mean_scores_max, all_scores_std, all_scores_max = ELPH_utils.get_KFold_CV_scores_std_max(model, runs, folds=10, seed=817, train_kwargs=train_kwargs)\n",
    "\n",
    "print(np.mean(mean_scores_std))\n",
    "print(np.std(all_scores_std))\n",
    "print('\\n')\n",
    "print(np.mean(mean_scores_max))\n",
    "print(np.std(all_scores_max))"
   ]
  },
  {
   "cell_type": "code",
   "execution_count": null,
   "id": "8c21acc4",
   "metadata": {},
   "outputs": [
    {
     "name": "stdout",
     "output_type": "stream",
     "text": [
      "rdim: 5  (1/46)\n"
     ]
    },
    {
     "name": "stderr",
     "output_type": "stream",
     "text": [
      "/usr/lib/python3/dist-packages/numpy/core/numeric.py:909: RuntimeWarning: overflow encountered in multiply\n",
      "  return multiply(a.ravel()[:, newaxis], b.ravel()[newaxis, :], out)\n",
      "../incl/ELPH_RDNLVAR.py:200: RuntimeWarning: invalid value encountered in matmul\n",
      "  pred[:,j] = self.w.T @ transform\n",
      "../incl/ELPH_RDNLVAR.py:222: RuntimeWarning: overflow encountered in square\n",
      "  err = np.sqrt( np.mean( np.square(run-pred) ) )\n",
      "../incl/ELPH_Scaler.py:68: RuntimeWarning: overflow encountered in multiply\n",
      "  return ( ( (data_matrix.T + 0.5*self.rel_scale_vec[:n_features]) * self.scale[:n_features])+self.min[:n_features] ).T\n",
      "../incl/ELPH_Dim_Reducer.py:33: RuntimeWarning: invalid value encountered in matmul\n",
      "  return self.U[:,:dim] @ coef_matrix\n"
     ]
    },
    {
     "name": "stdout",
     "output_type": "stream",
     "text": [
      "rdim: 6  (2/46)\n",
      "rdim: 7  (3/46)\n",
      "rdim: 8  (4/46)\n",
      "rdim: 9  (5/46)\n"
     ]
    },
    {
     "name": "stderr",
     "output_type": "stream",
     "text": [
      "../incl/ELPH_RDNLVAR.py:200: RuntimeWarning: overflow encountered in matmul\n",
      "  pred[:,j] = self.w.T @ transform\n"
     ]
    },
    {
     "name": "stdout",
     "output_type": "stream",
     "text": [
      "rdim: 10  (6/46)\n",
      "rdim: 11  (7/46)\n",
      "rdim: 12  (8/46)\n",
      "rdim: 13  (9/46)\n",
      "rdim: 14  (10/46)\n",
      "rdim: 15  (11/46)\n",
      "rdim: 16  (12/46)\n",
      "rdim: 17  (13/46)\n",
      "rdim: 18  (14/46)\n",
      "rdim: 19  (15/46)\n",
      "rdim: 20  (16/46)\n",
      "rdim: 21  (17/46)\n",
      "rdim: 22  (18/46)\n",
      "rdim: 23  (19/46)\n",
      "rdim: 24  (20/46)\n",
      "rdim: 25  (21/46)\n",
      "rdim: 26  (22/46)\n",
      "rdim: 27  (23/46)\n",
      "rdim: 28  (24/46)\n",
      "rdim: 29  (25/46)\n",
      "rdim: 30  (26/46)\n",
      "rdim: 31  (27/46)\n",
      "rdim: 32  (28/46)\n",
      "rdim: 33  (29/46)\n",
      "rdim: 34  (30/46)\n",
      "rdim: 35  (31/46)\n",
      "rdim: 36  (32/46)\n",
      "rdim: 37  (33/46)\n",
      "rdim: 38  (34/46)\n",
      "rdim: 39  (35/46)\n",
      "rdim: 40  (36/46)\n",
      "rdim: 41  (37/46)\n",
      "rdim: 42  (38/46)\n",
      "rdim: 43  (39/46)\n",
      "rdim: 44  (40/46)\n",
      "rdim: 45  (41/46)\n",
      "rdim: 46  (42/46)\n",
      "rdim: 47  (43/46)\n"
     ]
    }
   ],
   "source": [
    "model = RDNLVAR()\n",
    "\n",
    "scaler = ELPH_Scaler.normalize_scaler(0.1)\n",
    "dim_reducer = ELPH_Dim_Reducer.SVD()\n",
    "VAR_transformer = ELPH_VAR_Transformer.polynomial_features(order=2)\n",
    "\n",
    "\n",
    "# aExpAr = np.array([-4,-3.5,-3.0,-2.5])\n",
    "aExpAr = np.linspace(-5,-1.0,25)\n",
    "\n",
    "# rdimAr = np.array([5,15,20,25])\n",
    "rdimAr = np.arange(5,50.5,1,dtype=int)\n",
    "\n",
    "max_scores = np.zeros(rdimAr.size)\n",
    "max_scores_std = np.zeros(rdimAr.size)\n",
    "\n",
    "std_scores = np.zeros(rdimAr.size)\n",
    "std_scores_std = np.zeros(rdimAr.size)\n",
    "\n",
    "opt_aExp_std = np.zeros(rdimAr.size)\n",
    "opt_aExp_max = np.zeros(rdimAr.size)\n",
    "\n",
    "for n,rdim in enumerate(rdimAr):\n",
    "    \n",
    "    print('rdim:', rdim, ' ('+str(n+1)+'/'+str(rdimAr.size)+')')\n",
    "    \n",
    "    tmp_max_scores = np.zeros(aExpAr.size)\n",
    "    tmp_max_scores_std = np.zeros(aExpAr.size)\n",
    "\n",
    "    tmp_std_scores = np.zeros(aExpAr.size)\n",
    "    tmp_std_scores_std = np.zeros(aExpAr.size)\n",
    "    \n",
    "    for m,aExp in enumerate(aExpAr):\n",
    "        \n",
    "        optimizer = ELPH_Optimizer.ridge(alpha=10.**aExp)\n",
    "        \n",
    "        train_kwargs = {'rdim':rdim, 'prdim':rdim, 'n_VAR_steps':2, 'intercept':True, 'full_hist':False, 'optimizer':optimizer, 'scaler':scaler, 'dim_reducer':dim_reducer, 'VAR_transformer':VAR_transformer }\n",
    "\n",
    "        mean_scores_std, mean_scores_max, all_scores_std, all_scores_max = ELPH_utils.get_KFold_CV_scores_std_max(model, runs, folds=10, seed=817, train_kwargs=train_kwargs)\n",
    "        \n",
    "        tmp_max_scores[m] = np.mean(mean_scores_max)\n",
    "        tmp_max_scores_std[m] = np.std(all_scores_max)\n",
    "\n",
    "        tmp_std_scores[m] = np.mean(mean_scores_std)\n",
    "        tmp_std_scores_std[m] = np.std(all_scores_std)\n",
    "        \n",
    "    \n",
    "    ind_max = np.nanargmin( tmp_max_scores + tmp_max_scores_std )\n",
    "    ind_std = np.nanargmin( tmp_std_scores + tmp_std_scores_std )\n",
    "    \n",
    "    max_scores[n] = tmp_max_scores[ind_max]\n",
    "    max_scores_std[n] = tmp_max_scores_std[ind_max]\n",
    "    \n",
    "    std_scores[n] = tmp_std_scores[ind_std]\n",
    "    std_scores_std[n] = tmp_std_scores_std[ind_std]\n",
    "    \n",
    "    opt_aExp_std[n] = aExpAr[ind_std]\n",
    "    opt_aExp_max[n] = aExpAr[ind_max]\n",
    "    \n"
   ]
  },
  {
   "cell_type": "code",
   "execution_count": 1,
   "id": "5bc97759",
   "metadata": {
    "scrolled": false
   },
   "outputs": [
    {
     "ename": "NameError",
     "evalue": "name 'plt' is not defined",
     "output_type": "error",
     "traceback": [
      "\u001b[0;31m---------------------------------------------------------------------------\u001b[0m",
      "\u001b[0;31mNameError\u001b[0m                                 Traceback (most recent call last)",
      "Input \u001b[0;32mIn [1]\u001b[0m, in \u001b[0;36m<cell line: 1>\u001b[0;34m()\u001b[0m\n\u001b[0;32m----> 1\u001b[0m \u001b[43mplt\u001b[49m\u001b[38;5;241m.\u001b[39merrorbar(rdimAr, std_scores, yerr\u001b[38;5;241m=\u001b[39mstd_scores_std)\n\u001b[1;32m      2\u001b[0m plt\u001b[38;5;241m.\u001b[39mshow()\n\u001b[1;32m      4\u001b[0m plt\u001b[38;5;241m.\u001b[39merrorbar(rdimAr, max_scores, yerr\u001b[38;5;241m=\u001b[39mmax_scores_std)\n",
      "\u001b[0;31mNameError\u001b[0m: name 'plt' is not defined"
     ]
    }
   ],
   "source": [
    "plt.errorbar(rdimAr, std_scores, yerr=std_scores_std)\n",
    "plt.show()\n",
    "\n",
    "plt.errorbar(rdimAr, max_scores, yerr=max_scores_std)\n",
    "plt.show()\n",
    "\n",
    "plt.plot(rdimAr, opt_aExp_std, label='std')\n",
    "plt.plot(rdimAr, opt_aExp_max, label='max')\n",
    "plt.legend()\n",
    "plt.show()"
   ]
  }
 ],
 "metadata": {
  "kernelspec": {
   "display_name": "Python 3 (ipykernel)",
   "language": "python",
   "name": "python3"
  },
  "language_info": {
   "codemirror_mode": {
    "name": "ipython",
    "version": 3
   },
   "file_extension": ".py",
   "mimetype": "text/x-python",
   "name": "python",
   "nbconvert_exporter": "python",
   "pygments_lexer": "ipython3",
   "version": "3.9.2"
  }
 },
 "nbformat": 4,
 "nbformat_minor": 5
}
