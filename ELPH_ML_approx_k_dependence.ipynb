{
 "cells": [
  {
   "cell_type": "code",
   "execution_count": 1,
   "id": "f518b238",
   "metadata": {},
   "outputs": [],
   "source": [
    "%load_ext autoreload\n",
    "%autoreload 2\n",
    "\n",
    "import numpy as np\n",
    "import matplotlib.pyplot as plt\n",
    "plt.rcParams['figure.figsize'] = [9, 6]\n",
    "\n",
    "import sys\n",
    "\n",
    "sys.path.append(\"incl/\")\n",
    "\n",
    "import ELPH_utils\n",
    "import ELPH_Dim_Reducer\n",
    "\n",
    "from RedDimApprox import RedDimApprox"
   ]
  },
  {
   "cell_type": "code",
   "execution_count": 45,
   "id": "543f214f",
   "metadata": {},
   "outputs": [
    {
     "name": "stdout",
     "output_type": "stream",
     "text": [
      "1000 loaded with n_kmax = 80\n"
     ]
    }
   ],
   "source": [
    "runs = ELPH_utils.load_runs(filename='/home/agluedge/Preprints/ELPH/runs/runs_n_kmax=80.npz')\n",
    "\n",
    "# runs = runs[:100:1]\n",
    "# for k in range(len(runs)):\n",
    "#     runs[k] = runs[k][:,::2]\n",
    "\n",
    "n_runs = len(runs)\n",
    "n_kmax = runs[0].shape[0]\n",
    "\n",
    "print(n_runs, 'loaded with n_kmax =', n_kmax)"
   ]
  },
  {
   "cell_type": "code",
   "execution_count": 47,
   "id": "95d12b36",
   "metadata": {},
   "outputs": [
    {
     "name": "stdout",
     "output_type": "stream",
     "text": [
      "7.823576266108559\n",
      "0.005390967947366082\n"
     ]
    }
   ],
   "source": [
    "# dim_reducer = ELPH_Dim_Reducer.SVD()\n",
    "# dim_reducer = ELPH_Dim_Reducer.FFT(sorted=True)\n",
    "dim_reducer = ELPH_Dim_Reducer.Hermite(sample_max = 1.856, sorted=True, optimize=True, orthogonalize=False, train_rdim=20)\n",
    "\n",
    "model = RedDimApprox(runs, dim_reducer)\n",
    "model.train()\n",
    "print(dim_reducer.sample_max)\n",
    "\n",
    "print(model.get_error(runs[9], rdim=20, norm='std'))"
   ]
  },
  {
   "cell_type": "code",
   "execution_count": 51,
   "id": "cbfe6109",
   "metadata": {},
   "outputs": [
    {
     "name": "stdout",
     "output_type": "stream",
     "text": [
      "0.0023191028155950697\n",
      "[0.0026933946971274686, 0.0028709402879769706, 0.0017907124239404301, 0.0015194287990528393, 0.0027210378698776416]\n"
     ]
    }
   ],
   "source": [
    "# dim_reducer = ELPH_Dim_Reducer.SVD()\n",
    "# dim_reducer = ELPH_Dim_Reducer.FFT(sorted=True)\n",
    "dim_reducer = ELPH_Dim_Reducer.Hermite(sample_max = 1.856, sorted=True, optimize=True, orthogonalize=True, train_rdim=40)\n",
    "\n",
    "model = RedDimApprox(dim_reducer=dim_reducer)\n",
    "\n",
    "train_kwargs = {}\n",
    "score_kwargs = {'norm':'std', 'rdim':40}\n",
    "\n",
    "m,s = ELPH_utils.get_KFold_CV_scores(model, runs, folds=5, seed=817, train_kwargs=train_kwargs, score_kwargs=score_kwargs)\n",
    "\n",
    "print(m)\n",
    "print(s)"
   ]
  },
  {
   "cell_type": "code",
   "execution_count": null,
   "id": "b87559e1",
   "metadata": {
    "scrolled": false
   },
   "outputs": [
    {
     "name": "stdout",
     "output_type": "stream",
     "text": [
      "1000 loaded with n_kmax = 10\n",
      "min rdim: 10 mean + std 4.818818954099851e-16\n",
      "1000 loaded with n_kmax = 20\n"
     ]
    }
   ],
   "source": [
    "norm = 'max'\n",
    "threshold = 0.01\n",
    "\n",
    "# n_kmax_ar = [220,230]\n",
    "# n_kmax_ar = [10,20,30,40,50,60,70,80,90,100,110,120,130,140]\n",
    "n_kmax_ar = np.arange(10,235,10)\n",
    "\n",
    "rdim_buffer = 5\n",
    "previous_min_rdim = 1 + rdim_buffer\n",
    "min_rdim_ar = []\n",
    "\n",
    "for k, n_kmax in enumerate(n_kmax_ar):\n",
    "    runs = ELPH_utils.load_runs(filename='/home/agluedge/Preprints/ELPH/runs/runs_n_kmax='+str(n_kmax)+'.npz')\n",
    "    n_runs = len(runs)\n",
    "    assert n_kmax == runs[0].shape[0]\n",
    "    \n",
    "    print(n_runs, 'loaded with n_kmax =', n_kmax)\n",
    "    \n",
    "    for rdim in range(previous_min_rdim-rdim_buffer,n_kmax+1):\n",
    "        \n",
    "#         dim_reducer = ELPH_Dim_Reducer.SVD()\n",
    "#         dim_reducer = ELPH_Dim_Reducer.FFT(sorted=True)\n",
    "        dim_reducer = ELPH_Dim_Reducer.Hermite(sorted=True, optimize=True, orthogonalize=True, train_rdim=rdim)\n",
    "        \n",
    "        model = RedDimApprox(dim_reducer=dim_reducer)\n",
    "        \n",
    "        score_kwargs = {'norm':norm, 'rdim':rdim}\n",
    "        m,s = ELPH_utils.get_KFold_CV_scores(model, runs, folds=10, seed=817, train_kwargs={}, score_kwargs=score_kwargs)\n",
    "#         print('rdim:', rdim, 'mean score', m)\n",
    "        std = np.std(s)\n",
    "    \n",
    "        score = m+std\n",
    "        \n",
    "        if score < threshold:\n",
    "            previous_min_rdim = rdim\n",
    "            min_rdim_ar.append(rdim)\n",
    "            print('min rdim:', rdim, 'mean + std', score)\n",
    "            break\n",
    "            \n",
    "    if m > threshold:        \n",
    "        min_rdim_ar.append(rdim)\n",
    "        print('max rdim reached:', rdim, 'mean score', m)\n",
    "    "
   ]
  },
  {
   "cell_type": "code",
   "execution_count": 44,
   "id": "06f7231c",
   "metadata": {},
   "outputs": [
    {
     "name": "stdout",
     "output_type": "stream",
     "text": [
      "(23, 2)\n",
      "[[ 10  10]\n",
      " [ 20  20]\n",
      " [ 30  29]\n",
      " [ 40  37]\n",
      " [ 50  50]\n",
      " [ 60  56]\n",
      " [ 70  63]\n",
      " [ 80  72]\n",
      " [ 90  81]\n",
      " [100  90]\n",
      " [110 101]\n",
      " [120 113]\n",
      " [130 124]\n",
      " [140 136]\n",
      " [150 149]\n",
      " [160 158]\n",
      " [170 167]\n",
      " [180 173]\n",
      " [190 178]\n",
      " [200 181]\n",
      " [210 188]\n",
      " [220 197]\n",
      " [230 206]]\n"
     ]
    },
    {
     "data": {
      "image/png": "[encoded data removed]",
      "text/plain": [
       "<Figure size 648x432 with 1 Axes>"
      ]
     },
     "metadata": {
      "needs_background": "light"
     },
     "output_type": "display_data"
    },
    {
     "data": {
      "image/png": "[encoded data removed]",
      "text/plain": [
       "<Figure size 648x432 with 1 Axes>"
      ]
     },
     "metadata": {
      "needs_background": "light"
     },
     "output_type": "display_data"
    }
   ],
   "source": [
    "n_kmax_ar = np.asarray(n_kmax_ar)\n",
    "min_rdim_ar = np.asarray(min_rdim_ar)\n",
    "\n",
    "data = np.stack((n_kmax_ar[:min_rdim_ar.size],min_rdim_ar),axis=1)\n",
    "\n",
    "# prev_data = np.loadtxt('/home/agluedge/Preprints/ELPH/figs/red_dim_apprx/svd_std')\n",
    "\n",
    "# data = np.concatenate((prev_data,data),axis=0)\n",
    "\n",
    "\n",
    "print(data.shape)\n",
    "print(data)\n",
    "\n",
    "# np.savetxt('/home/agluedge/Preprints/ELPH/figs/red_dim_apprx/FFT_max', data)\n",
    "\n",
    "\n",
    "\n",
    "plt.grid()\n",
    "plt.plot(data[:,0],data[:,1], '--', marker='o')\n",
    "plt.xlabel('n_kmax')\n",
    "plt.ylabel('min rdim')\n",
    "plt.show()\n",
    "\n",
    "\n",
    "plt.grid()\n",
    "plt.plot(data[:,0],data[:,1]/data[:,0], '--', marker='o')\n",
    "plt.xlabel('n_kmax')\n",
    "plt.ylabel('min rdim/n_kmax')\n",
    "plt.show()"
   ]
  }
 ],
 "metadata": {
  "kernelspec": {
   "display_name": "Python 3 (ipykernel)",
   "language": "python",
   "name": "python3"
  },
  "language_info": {
   "codemirror_mode": {
    "name": "ipython",
    "version": 3
   },
   "file_extension": ".py",
   "mimetype": "text/x-python",
   "name": "python",
   "nbconvert_exporter": "python",
   "pygments_lexer": "ipython3",
   "version": "3.9.2"
  }
 },
 "nbformat": 4,
 "nbformat_minor": 5
}
