{
 "cells": [
  {
   "cell_type": "code",
   "execution_count": 1,
   "id": "f518b238",
   "metadata": {},
   "outputs": [],
   "source": [
    "%load_ext autoreload\n",
    "%autoreload 2\n",
    "\n",
    "import numpy as np\n",
    "import matplotlib.pyplot as plt\n",
    "plt.rcParams['figure.figsize'] = [9, 6]\n",
    "\n",
    "import sys\n",
    "\n",
    "sys.path.append(\"incl/\")\n",
    "\n",
    "import ELPH_utils\n",
    "import ELPH_Dim_Reducer\n",
    "\n",
    "from RedDimApprox import RedDimApprox"
   ]
  },
  {
   "cell_type": "code",
   "execution_count": 11,
   "id": "543f214f",
   "metadata": {},
   "outputs": [
    {
     "name": "stdout",
     "output_type": "stream",
     "text": [
      "1000 loaded with n_kmax = 90\n"
     ]
    }
   ],
   "source": [
    "runs = ELPH_utils.load_runs(filename='/home/agluedge/Preprints/ELPH/runs/runs_n_kmax=90.npz')\n",
    "\n",
    "# runs = runs[:100:1]\n",
    "# for k in range(len(runs)):\n",
    "#     runs[k] = runs[k][:,::2]\n",
    "\n",
    "n_runs = len(runs)\n",
    "n_kmax = runs[0].shape[0]\n",
    "\n",
    "print(n_runs, 'loaded with n_kmax =', n_kmax)"
   ]
  },
  {
   "cell_type": "code",
   "execution_count": 106,
   "id": "95d12b36",
   "metadata": {},
   "outputs": [
    {
     "name": "stdout",
     "output_type": "stream",
     "text": [
      "7.954117937430623\n",
      "0.002983207004661441\n"
     ]
    }
   ],
   "source": [
    "# dim_reducer = ELPH_Dim_Reducer.SVD()\n",
    "# dim_reducer = ELPH_Dim_Reducer.FFT(sorted=True)\n",
    "dim_reducer = ELPH_Dim_Reducer.Hermite(sample_max = 1.856, sorted=True, optimize=True, orthogonalize=True, train_rdim=40)\n",
    "\n",
    "model = RedDimApprox(runs, dim_reducer)\n",
    "model.train()\n",
    "print(dim_reducer.sample_max)\n",
    "\n",
    "print(model.get_error(runs[9], rdim=40, norm='std'))"
   ]
  },
  {
   "cell_type": "code",
   "execution_count": 5,
   "id": "cbfe6109",
   "metadata": {},
   "outputs": [
    {
     "name": "stdout",
     "output_type": "stream",
     "text": [
      "0.0009632163960250765\n",
      "[0.001012285427423478, 0.0009207733257847391, 0.0009684348374303605, 0.0009739141599583961, 0.0009406742295284086]\n"
     ]
    }
   ],
   "source": [
    "dim_reducer = ELPH_Dim_Reducer.SVD()\n",
    "# dim_reducer = ELPH_Dim_Reducer.FFT(sorted=True)\n",
    "# dim_reducer = ELPH_Dim_Reducer.Hermite(sample_max = 1.856, sorted=True, optimize=True, orthogonalize=True, train_rdim=20)\n",
    "\n",
    "model = RedDimApprox(dim_reducer=dim_reducer)\n",
    "\n",
    "train_kwargs = {}\n",
    "score_kwargs = {'norm':'std', 'rdim':20}\n",
    "\n",
    "m,s = ELPH_utils.get_KFold_CV_scores(model, runs, folds=5, seed=817, train_kwargs=train_kwargs, score_kwargs=score_kwargs)\n",
    "\n",
    "print(m)\n",
    "print(s)"
   ]
  },
  {
   "cell_type": "code",
   "execution_count": 36,
   "id": "b87559e1",
   "metadata": {},
   "outputs": [
    {
     "name": "stdout",
     "output_type": "stream",
     "text": [
      "1000 loaded with n_kmax = 10\n",
      "min rdim: 7 mean + std 0.00616413317820622\n",
      "1000 loaded with n_kmax = 20\n",
      "min rdim: 10 mean + std 0.009720804133032432\n",
      "1000 loaded with n_kmax = 30\n"
     ]
    },
    {
     "name": "stderr",
     "output_type": "stream",
     "text": [
      "incl/ELPH_Dim_Reducer.py:110: RuntimeWarning: divide by zero encountered in true_divide\n",
      "  Q[k] = Q[k] / np.linalg.norm(Q[k])\n",
      "incl/ELPH_Dim_Reducer.py:110: RuntimeWarning: invalid value encountered in true_divide\n",
      "  Q[k] = Q[k] / np.linalg.norm(Q[k])\n"
     ]
    },
    {
     "name": "stdout",
     "output_type": "stream",
     "text": [
      "min rdim: 11 mean + std 0.009226870693650632\n",
      "1000 loaded with n_kmax = 40\n",
      "min rdim: 12 mean + std 0.009676286947055966\n",
      "1000 loaded with n_kmax = 50\n",
      "min rdim: 12 mean + std 0.009969540515177117\n",
      "1000 loaded with n_kmax = 60\n",
      "min rdim: 13 mean + std 0.008623625858661343\n",
      "1000 loaded with n_kmax = 70\n",
      "min rdim: 13 mean + std 0.009529665726510792\n",
      "1000 loaded with n_kmax = 80\n",
      "min rdim: 13 mean + std 0.009553936386633145\n",
      "1000 loaded with n_kmax = 90\n",
      "min rdim: 13 mean + std 0.0094948399083222\n",
      "1000 loaded with n_kmax = 100\n",
      "min rdim: 13 mean + std 0.009363386260270595\n",
      "1000 loaded with n_kmax = 110\n",
      "min rdim: 13 mean + std 0.009420017106904259\n",
      "1000 loaded with n_kmax = 120\n"
     ]
    },
    {
     "name": "stderr",
     "output_type": "stream",
     "text": [
      "incl/ELPH_Dim_Reducer.py:140: RuntimeWarning: invalid value encountered in multiply\n",
      "  self.H_matrix[k] = eval_hermite(k,x_test) * np.exp(-0.5*x_test**2) / np.sqrt(np.sqrt(np.pi)*(2**k)*np.math.factorial(k))\n"
     ]
    },
    {
     "name": "stdout",
     "output_type": "stream",
     "text": [
      "min rdim: 13 mean + std 0.00957838853467391\n",
      "1000 loaded with n_kmax = 130\n",
      "min rdim: 13 mean + std 0.009472205128959523\n",
      "1000 loaded with n_kmax = 140\n",
      "min rdim: 13 mean + std 0.009600031541731422\n",
      "1000 loaded with n_kmax = 150\n",
      "min rdim: 13 mean + std 0.00964146432855386\n",
      "1000 loaded with n_kmax = 160\n",
      "min rdim: 13 mean + std 0.009594877171393535\n",
      "1000 loaded with n_kmax = 170\n"
     ]
    },
    {
     "name": "stderr",
     "output_type": "stream",
     "text": [
      "incl/ELPH_Dim_Reducer.py:140: RuntimeWarning: invalid value encountered in true_divide\n",
      "  self.H_matrix[k] = eval_hermite(k,x_test) * np.exp(-0.5*x_test**2) / np.sqrt(np.sqrt(np.pi)*(2**k)*np.math.factorial(k))\n"
     ]
    },
    {
     "name": "stdout",
     "output_type": "stream",
     "text": [
      "min rdim: 13 mean + std 0.009603268364441527\n",
      "1000 loaded with n_kmax = 180\n"
     ]
    },
    {
     "ename": "OverflowError",
     "evalue": "int too large to convert to float",
     "output_type": "error",
     "traceback": [
      "\u001b[0;31m---------------------------------------------------------------------------\u001b[0m",
      "\u001b[0;31mOverflowError\u001b[0m                             Traceback (most recent call last)",
      "Input \u001b[0;32mIn [36]\u001b[0m, in \u001b[0;36m<cell line: 12>\u001b[0;34m()\u001b[0m\n\u001b[1;32m     25\u001b[0m         model \u001b[38;5;241m=\u001b[39m RedDimApprox(dim_reducer\u001b[38;5;241m=\u001b[39mdim_reducer)\n\u001b[1;32m     27\u001b[0m         score_kwargs \u001b[38;5;241m=\u001b[39m {\u001b[38;5;124m'\u001b[39m\u001b[38;5;124mnorm\u001b[39m\u001b[38;5;124m'\u001b[39m:norm, \u001b[38;5;124m'\u001b[39m\u001b[38;5;124mrdim\u001b[39m\u001b[38;5;124m'\u001b[39m:rdim}\n\u001b[0;32m---> 28\u001b[0m         m,s \u001b[38;5;241m=\u001b[39m \u001b[43mELPH_utils\u001b[49m\u001b[38;5;241;43m.\u001b[39;49m\u001b[43mget_KFold_CV_scores\u001b[49m\u001b[43m(\u001b[49m\u001b[43mmodel\u001b[49m\u001b[43m,\u001b[49m\u001b[43m \u001b[49m\u001b[43mruns\u001b[49m\u001b[43m,\u001b[49m\u001b[43m \u001b[49m\u001b[43mfolds\u001b[49m\u001b[38;5;241;43m=\u001b[39;49m\u001b[38;5;241;43m10\u001b[39;49m\u001b[43m,\u001b[49m\u001b[43m \u001b[49m\u001b[43mseed\u001b[49m\u001b[38;5;241;43m=\u001b[39;49m\u001b[38;5;241;43m817\u001b[39;49m\u001b[43m,\u001b[49m\u001b[43m \u001b[49m\u001b[43mtrain_kwargs\u001b[49m\u001b[38;5;241;43m=\u001b[39;49m\u001b[43m{\u001b[49m\u001b[43m}\u001b[49m\u001b[43m,\u001b[49m\u001b[43m \u001b[49m\u001b[43mscore_kwargs\u001b[49m\u001b[38;5;241;43m=\u001b[39;49m\u001b[43mscore_kwargs\u001b[49m\u001b[43m)\u001b[49m\n\u001b[1;32m     29\u001b[0m \u001b[38;5;66;03m#         print('rdim:', rdim, 'mean score', m)\u001b[39;00m\n\u001b[1;32m     30\u001b[0m         std \u001b[38;5;241m=\u001b[39m np\u001b[38;5;241m.\u001b[39mstd(s)\n",
      "File \u001b[0;32m~/Work/numerics/ELPH/ELPH-ML/incl/ELPH_utils.py:75\u001b[0m, in \u001b[0;36mget_KFold_CV_scores\u001b[0;34m(model, runs, folds, seed, score_kwargs, train_kwargs)\u001b[0m\n\u001b[1;32m     73\u001b[0m \u001b[38;5;66;03m#train the model on the training runs and get scores from the testing runs\u001b[39;00m\n\u001b[1;32m     74\u001b[0m model\u001b[38;5;241m.\u001b[39mload_runs(train_runs) \n\u001b[0;32m---> 75\u001b[0m \u001b[43mmodel\u001b[49m\u001b[38;5;241;43m.\u001b[39;49m\u001b[43mtrain\u001b[49m\u001b[43m(\u001b[49m\u001b[38;5;241;43m*\u001b[39;49m\u001b[38;5;241;43m*\u001b[39;49m\u001b[43mtrain_kwargs\u001b[49m\u001b[43m)\u001b[49m\n\u001b[1;32m     76\u001b[0m mean_score \u001b[38;5;241m=\u001b[39m model\u001b[38;5;241m.\u001b[39mscore_multiple_runs(test_runs, \u001b[38;5;241m*\u001b[39m\u001b[38;5;241m*\u001b[39mscore_kwargs)[\u001b[38;5;241m0\u001b[39m]\n\u001b[1;32m     78\u001b[0m scores\u001b[38;5;241m.\u001b[39mappend(mean_score)\n",
      "File \u001b[0;32m~/Work/numerics/ELPH/ELPH-ML/incl/RedDimApprox.py:34\u001b[0m, in \u001b[0;36mRedDimApprox.train\u001b[0;34m(self, rdim, dim_reducer)\u001b[0m\n\u001b[1;32m     30\u001b[0m     \u001b[38;5;28;01mraise\u001b[39;00m \u001b[38;5;167;01mValueError\u001b[39;00m(\u001b[38;5;124m'\u001b[39m\u001b[38;5;124mno dim reducer object as been passed\u001b[39m\u001b[38;5;124m'\u001b[39m)\n\u001b[1;32m     32\u001b[0m data_matrix \u001b[38;5;241m=\u001b[39m np\u001b[38;5;241m.\u001b[39mconcatenate(\u001b[38;5;28mself\u001b[39m\u001b[38;5;241m.\u001b[39mruns,axis\u001b[38;5;241m=\u001b[39m\u001b[38;5;241m1\u001b[39m)\n\u001b[0;32m---> 34\u001b[0m \u001b[38;5;28;43mself\u001b[39;49m\u001b[38;5;241;43m.\u001b[39;49m\u001b[43mdim_reducer\u001b[49m\u001b[38;5;241;43m.\u001b[39;49m\u001b[43mtrain\u001b[49m\u001b[43m(\u001b[49m\u001b[43mdata_matrix\u001b[49m\u001b[43m)\u001b[49m\n",
      "File \u001b[0;32m~/Work/numerics/ELPH/ELPH-ML/incl/ELPH_Dim_Reducer.py:134\u001b[0m, in \u001b[0;36mHermite.train\u001b[0;34m(self, data_matrix)\u001b[0m\n\u001b[1;32m    132\u001b[0m \u001b[38;5;28mself\u001b[39m\u001b[38;5;241m.\u001b[39mH_matrix \u001b[38;5;241m=\u001b[39m np\u001b[38;5;241m.\u001b[39mzeros((\u001b[38;5;28mself\u001b[39m\u001b[38;5;241m.\u001b[39mfull_dim, \u001b[38;5;28mself\u001b[39m\u001b[38;5;241m.\u001b[39mfull_dim))\n\u001b[1;32m    133\u001b[0m \u001b[38;5;28;01mfor\u001b[39;00m k \u001b[38;5;129;01min\u001b[39;00m \u001b[38;5;28mrange\u001b[39m(\u001b[38;5;28mself\u001b[39m\u001b[38;5;241m.\u001b[39mfull_dim):\n\u001b[0;32m--> 134\u001b[0m     \u001b[38;5;28mself\u001b[39m\u001b[38;5;241m.\u001b[39mH_matrix[k]  \u001b[38;5;241m=\u001b[39m eval_hermite(k,\u001b[38;5;28mself\u001b[39m\u001b[38;5;241m.\u001b[39mx) \u001b[38;5;241m*\u001b[39m np\u001b[38;5;241m.\u001b[39mexp(\u001b[38;5;241m-\u001b[39m\u001b[38;5;241m0.5\u001b[39m\u001b[38;5;241m*\u001b[39m\u001b[38;5;28mself\u001b[39m\u001b[38;5;241m.\u001b[39mx\u001b[38;5;241m*\u001b[39m\u001b[38;5;241m*\u001b[39m\u001b[38;5;241m2\u001b[39m) \u001b[38;5;241m/\u001b[39m np\u001b[38;5;241m.\u001b[39msqrt(\u001b[43mnp\u001b[49m\u001b[38;5;241;43m.\u001b[39;49m\u001b[43msqrt\u001b[49m\u001b[43m(\u001b[49m\u001b[43mnp\u001b[49m\u001b[38;5;241;43m.\u001b[39;49m\u001b[43mpi\u001b[49m\u001b[43m)\u001b[49m\u001b[38;5;241;43m*\u001b[39;49m\u001b[43m(\u001b[49m\u001b[38;5;241;43m2\u001b[39;49m\u001b[38;5;241;43m*\u001b[39;49m\u001b[38;5;241;43m*\u001b[39;49m\u001b[43mk\u001b[49m\u001b[43m)\u001b[49m\u001b[38;5;241;43m*\u001b[39;49m\u001b[43mnp\u001b[49m\u001b[38;5;241;43m.\u001b[39;49m\u001b[43mmath\u001b[49m\u001b[38;5;241;43m.\u001b[39;49m\u001b[43mfactorial\u001b[49m\u001b[43m(\u001b[49m\u001b[43mk\u001b[49m\u001b[43m)\u001b[49m)\n\u001b[1;32m    136\u001b[0m \u001b[38;5;28;01mif\u001b[39;00m \u001b[38;5;28mself\u001b[39m\u001b[38;5;241m.\u001b[39moptimize \u001b[38;5;241m==\u001b[39m \u001b[38;5;28;01mTrue\u001b[39;00m:\n\u001b[1;32m    137\u001b[0m     \u001b[38;5;28;01mdef\u001b[39;00m \u001b[38;5;21mloss\u001b[39m(sample_max):\n",
      "\u001b[0;31mOverflowError\u001b[0m: int too large to convert to float"
     ]
    }
   ],
   "source": [
    "norm = 'std'\n",
    "threshold = 0.01\n",
    "\n",
    "# n_kmax_ar = [220,230]\n",
    "# n_kmax_ar = [10,20,30,40,50,60,70,80,90,100,110,120,130,140]\n",
    "n_kmax_ar = np.arange(10,235,10)\n",
    "\n",
    "rdim_buffer = 5\n",
    "previous_min_rdim = 1 + rdim_buffer\n",
    "min_rdim_ar = []\n",
    "\n",
    "for k, n_kmax in enumerate(n_kmax_ar):\n",
    "    runs = ELPH_utils.load_runs(filename='/home/agluedge/Preprints/ELPH/runs/runs_n_kmax='+str(n_kmax)+'.npz')\n",
    "    n_runs = len(runs)\n",
    "    assert n_kmax == runs[0].shape[0]\n",
    "    \n",
    "    print(n_runs, 'loaded with n_kmax =', n_kmax)\n",
    "    \n",
    "    for rdim in range(previous_min_rdim-rdim_buffer,n_kmax+1):\n",
    "        \n",
    "#         dim_reducer = ELPH_Dim_Reducer.SVD()\n",
    "#         dim_reducer = ELPH_Dim_Reducer.FFT(sorted=True)\n",
    "        dim_reducer = ELPH_Dim_Reducer.Hermite(sorted=True, optimize=True, orthogonalize=True, train_rdim=rdim)\n",
    "        \n",
    "        model = RedDimApprox(dim_reducer=dim_reducer)\n",
    "        \n",
    "        score_kwargs = {'norm':norm, 'rdim':rdim}\n",
    "        m,s = ELPH_utils.get_KFold_CV_scores(model, runs, folds=10, seed=817, train_kwargs={}, score_kwargs=score_kwargs)\n",
    "#         print('rdim:', rdim, 'mean score', m)\n",
    "        std = np.std(s)\n",
    "    \n",
    "        score = m+std\n",
    "        \n",
    "        if score < threshold:\n",
    "            previous_min_rdim = rdim\n",
    "            min_rdim_ar.append(rdim)\n",
    "            print('min rdim:', rdim, 'mean + std', score)\n",
    "            break\n",
    "            \n",
    "    if m > threshold:        \n",
    "        min_rdim_ar.append(rdim)\n",
    "        print('max rdim reached:', rdim, 'mean score', m)\n",
    "    "
   ]
  },
  {
   "cell_type": "code",
   "execution_count": 35,
   "id": "06f7231c",
   "metadata": {},
   "outputs": [
    {
     "name": "stdout",
     "output_type": "stream",
     "text": [
      "(23, 2)\n",
      "[[ 10   9]\n",
      " [ 20  15]\n",
      " [ 30  19]\n",
      " [ 40  23]\n",
      " [ 50  24]\n",
      " [ 60  25]\n",
      " [ 70  27]\n",
      " [ 80  26]\n",
      " [ 90  28]\n",
      " [100  28]\n",
      " [110  28]\n",
      " [120  29]\n",
      " [130  29]\n",
      " [140  29]\n",
      " [150  29]\n",
      " [160  31]\n",
      " [170  30]\n",
      " [180  29]\n",
      " [190  30]\n",
      " [200  31]\n",
      " [210  30]\n",
      " [220  32]\n",
      " [230  31]]\n"
     ]
    },
    {
     "data": {
      "image/png": "[encoded data removed]",
      "text/plain": [
       "<Figure size 648x432 with 1 Axes>"
      ]
     },
     "metadata": {
      "needs_background": "light"
     },
     "output_type": "display_data"
    },
    {
     "data": {
      "image/png": "[encoded data removed]",
      "text/plain": [
       "<Figure size 648x432 with 1 Axes>"
      ]
     },
     "metadata": {
      "needs_background": "light"
     },
     "output_type": "display_data"
    }
   ],
   "source": [
    "n_kmax_ar = np.asarray(n_kmax_ar)\n",
    "min_rdim_ar = np.asarray(min_rdim_ar)\n",
    "\n",
    "data = np.stack((n_kmax_ar,min_rdim_ar),axis=1)\n",
    "\n",
    "# prev_data = np.loadtxt('/home/agluedge/Preprints/ELPH/figs/red_dim_apprx/svd_std')\n",
    "\n",
    "# data = np.concatenate((prev_data,data),axis=0)\n",
    "\n",
    "\n",
    "print(data.shape)\n",
    "print(data)\n",
    "\n",
    "# np.savetxt('/home/agluedge/Preprints/ELPH/figs/red_dim_apprx/svd_max', data)\n",
    "\n",
    "\n",
    "\n",
    "plt.grid()\n",
    "plt.plot(data[:,0],data[:,1], '--', marker='o')\n",
    "plt.xlabel('n_kmax')\n",
    "plt.ylabel('min rdim')\n",
    "plt.show()\n",
    "\n",
    "\n",
    "plt.grid()\n",
    "plt.plot(data[:,0],data[:,1]/data[:,0], '--', marker='o')\n",
    "plt.xlabel('n_kmax')\n",
    "plt.ylabel('min rdim/n_kmax')\n",
    "plt.show()"
   ]
  }
 ],
 "metadata": {
  "kernelspec": {
   "display_name": "Python 3 (ipykernel)",
   "language": "python",
   "name": "python3"
  },
  "language_info": {
   "codemirror_mode": {
    "name": "ipython",
    "version": 3
   },
   "file_extension": ".py",
   "mimetype": "text/x-python",
   "name": "python",
   "nbconvert_exporter": "python",
   "pygments_lexer": "ipython3",
   "version": "3.9.2"
  }
 },
 "nbformat": 4,
 "nbformat_minor": 5
}
