{
 "cells": [
  {
   "cell_type": "code",
   "execution_count": 1,
   "id": "142e4861",
   "metadata": {},
   "outputs": [],
   "source": [
    "%load_ext autoreload\n",
    "%autoreload 2\n",
    "\n",
    "import numpy as np\n",
    "import matplotlib.pyplot as plt\n",
    "import sys\n",
    "\n",
    "sys.path.append(\"incl/\")\n",
    "\n",
    "import ELPH_dyn\n",
    "import ELPH_utils\n",
    "\n",
    "\n",
    "#global hyperparameters\n",
    "kmax = 4.\n",
    "n_kmax = 80"
   ]
  },
  {
   "cell_type": "code",
   "execution_count": 2,
   "id": "7512d748",
   "metadata": {},
   "outputs": [
    {
     "data": {
      "image/png": "[encoded data removed]",
      "text/plain": [
       "<Figure size 432x288 with 1 Axes>"
      ]
     },
     "metadata": {
      "needs_background": "light"
     },
     "output_type": "display_data"
    },
    {
     "data": {
      "image/png": "[encoded data removed]",
      "text/plain": [
       "<Figure size 432x288 with 2 Axes>"
      ]
     },
     "metadata": {
      "needs_background": "light"
     },
     "output_type": "display_data"
    }
   ],
   "source": [
    "init = ELPH_dyn.get_init_cond_gauss(kmax = kmax, n_kmax = n_kmax, max_pos = 0.15, width = 0.05, density=0.1)\n",
    "plt.plot(init[:n_kmax])\n",
    "plt.show()\n",
    "\n",
    "nkdyn = ELPH_dyn.get_el_dynamics(init, n_kmax = n_kmax)\n",
    "plt.imshow(nkdyn, aspect='auto')\n",
    "plt.colorbar()\n",
    "plt.show()"
   ]
  },
  {
   "cell_type": "code",
   "execution_count": 3,
   "id": "77dd2df5",
   "metadata": {},
   "outputs": [
    {
     "name": "stdout",
     "output_type": "stream",
     "text": [
      "run  1  from  100\n",
      "run  2  from  100\n",
      "run  3  from  100\n",
      "run  4  from  100\n",
      "run  5  from  100\n",
      "run  6  from  100\n",
      "run  7  from  100\n",
      "run  8  from  100\n",
      "run  9  from  100\n",
      "run  10  from  100\n",
      "run  11  from  100\n",
      "run  12  from  100\n",
      "run  13  from  100\n",
      "run  14  from  100\n",
      "run  15  from  100\n",
      "run  16  from  100\n",
      "run  17  from  100\n",
      "run  18  from  100\n",
      "run  19  from  100\n",
      "run  20  from  100\n",
      "run  21  from  100\n",
      "run  22  from  100\n",
      "run  23  from  100\n",
      "run  24  from  100\n",
      "run  25  from  100\n",
      "run  26  from  100\n",
      "run  27  from  100\n",
      "run  28  from  100\n",
      "run  29  from  100\n",
      "run  30  from  100\n",
      "run  31  from  100\n",
      "run  32  from  100\n",
      "run  33  from  100\n",
      "run  34  from  100\n",
      "run  35  from  100\n",
      "run  36  from  100\n",
      "run  37  from  100\n",
      "run  38  from  100\n",
      "run  39  from  100\n",
      "run  40  from  100\n",
      "run  41  from  100\n",
      "run  42  from  100\n",
      "run  43  from  100\n",
      "run  44  from  100\n",
      "run  45  from  100\n",
      "run  46  from  100\n",
      "run  47  from  100\n",
      "run  48  from  100\n",
      "run  49  from  100\n",
      "run  50  from  100\n",
      "run  51  from  100\n",
      "run  52  from  100\n",
      "run  53  from  100\n",
      "run  54  from  100\n",
      "run  55  from  100\n",
      "run  56  from  100\n",
      "run  57  from  100\n",
      "run  58  from  100\n",
      "run  59  from  100\n",
      "run  60  from  100\n",
      "run  61  from  100\n",
      "run  62  from  100\n",
      "run  63  from  100\n",
      "run  64  from  100\n",
      "run  65  from  100\n",
      "run  66  from  100\n",
      "run  67  from  100\n",
      "run  68  from  100\n",
      "run  69  from  100\n",
      "run  70  from  100\n",
      "run  71  from  100\n",
      "run  72  from  100\n",
      "run  73  from  100\n",
      "run  74  from  100\n",
      "run  75  from  100\n",
      "run  76  from  100\n",
      "run  77  from  100\n",
      "run  78  from  100\n",
      "run  79  from  100\n",
      "run  80  from  100\n",
      "run  81  from  100\n",
      "run  82  from  100\n",
      "run  83  from  100\n",
      "run  84  from  100\n",
      "run  85  from  100\n",
      "run  86  from  100\n",
      "run  87  from  100\n",
      "run  88  from  100\n",
      "run  89  from  100\n",
      "run  90  from  100\n",
      "run  91  from  100\n",
      "run  92  from  100\n",
      "run  93  from  100\n",
      "run  94  from  100\n",
      "run  95  from  100\n",
      "run  96  from  100\n",
      "run  97  from  100\n",
      "run  98  from  100\n",
      "run  99  from  100\n",
      "run  100  from  100\n"
     ]
    }
   ],
   "source": [
    "n_runs = 100\n",
    "\n",
    "paras = np.zeros((n_runs,3))\n",
    "\n",
    "paras[:,0] = np.linspace(0.1,0.7,n_runs) #max_pos\n",
    "paras[:,1] = 0.05 #width\n",
    "paras[:,2] = 0.1 #density\n",
    "\n",
    "runs = ELPH_utils.get_runs_gaussian_init(kmax, n_kmax, paras, tmax=2000, n_tmax=400)"
   ]
  },
  {
   "cell_type": "code",
   "execution_count": 5,
   "id": "1d2b5e75",
   "metadata": {},
   "outputs": [],
   "source": [
    "ELPH_utils.save_runs(runs)"
   ]
  }
 ],
 "metadata": {
  "kernelspec": {
   "display_name": "Python 3 (ipykernel)",
   "language": "python",
   "name": "python3"
  },
  "language_info": {
   "codemirror_mode": {
    "name": "ipython",
    "version": 3
   },
   "file_extension": ".py",
   "mimetype": "text/x-python",
   "name": "python",
   "nbconvert_exporter": "python",
   "pygments_lexer": "ipython3",
   "version": "3.9.2"
  }
 },
 "nbformat": 4,
 "nbformat_minor": 5
}
